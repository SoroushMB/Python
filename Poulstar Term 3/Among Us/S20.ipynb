{
 "cells": [
  {
   "cell_type": "code",
   "execution_count": 1,
   "metadata": {},
   "outputs": [],
   "source": [
    "from tkinter import Tk,Entry,Label,Button\n",
    "\n",
    "def showing_something():\n",
    "    getting_answer = answer.get()\n",
    "    result = eval(getting_answer)\n",
    "    print(result)\n",
    "\n",
    "root = Tk()\n",
    "root.geometry(\"1050x300\")\n",
    "root.title(\"Q&A\")\n",
    "\n",
    "question = Label(root,text=\"How much we can gain from selling 10 watermelons in 10 days which each of them is 50K Toman?\",font=(\"Algerian\",15))\n",
    "answer = Entry(root,font=(\"Algerian\",15))\n",
    "answer.insert(0,\"Enter your answer: \")\n",
    "showing = Button(root,text=\"Show\",font=(\"Algerian\",15),command=lambda:showing_something())\n",
    "\n",
    "question.place(x=0,y=10)\n",
    "answer.place(x=20,y=30)\n",
    "showing.place(x=40,y=50)\n",
    "root.mainloop()"
   ]
  }
 ],
 "metadata": {
  "kernelspec": {
   "display_name": "Python 3",
   "language": "python",
   "name": "python3"
  },
  "language_info": {
   "codemirror_mode": {
    "name": "ipython",
    "version": 3
   },
   "file_extension": ".py",
   "mimetype": "text/x-python",
   "name": "python",
   "nbconvert_exporter": "python",
   "pygments_lexer": "ipython3",
   "version": "3.11.4"
  },
  "orig_nbformat": 4
 },
 "nbformat": 4,
 "nbformat_minor": 2
}
