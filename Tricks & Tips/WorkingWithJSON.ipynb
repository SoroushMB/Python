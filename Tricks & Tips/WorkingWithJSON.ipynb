{
 "cells": [
  {
   "cell_type": "code",
   "execution_count": null,
   "metadata": {},
   "outputs": [],
   "source": [
    "# Converting From JSON to Python\n",
    "from json import loads\n",
    "\n",
    "fake_json_file = '{\"name\":\"John\", \"age\":30, \"city\":\"New York\"}'\n",
    "containing_json_parts = loads(fake_json_file)\n",
    "print(containing_json_parts[\"city\"])"
   ]
  },
  {
   "cell_type": "code",
   "execution_count": null,
   "metadata": {},
   "outputs": [],
   "source": [
    "# Converting from Python to JSON\n",
    "from json import dumps\n",
    "\n",
    "json_text = {\n",
    "    \"name\" : \"Ariyanaz\",\n",
    "    \"age\" : \"16\",\n",
    "    \"city\" : \"Rasht\"\n",
    "}\n",
    "\n",
    "json_creator = dumps(json_text)\n",
    "print(json_creator)"
   ]
  },
  {
   "cell_type": "code",
   "execution_count": null,
   "metadata": {},
   "outputs": [],
   "source": [
    "# Converting Python Objects into JSON Strings\n",
    "from json import dumps\n",
    "\n",
    "print(dumps({\"The one I like\":\"Ariyanaz\",\"Age\":\"16\"}))\n",
    "print(dumps([\"Ariyanaz\",\"Sepideh\"]))\n",
    "print(dumps((\"Ariyanaz\",\"Sepideh\")))\n",
    "print(dumps(\"Hello\"))\n",
    "print(dumps(64))\n",
    "print(dumps(32.64))\n",
    "print(dumps(True))\n",
    "print(dumps(False))\n",
    "print(dumps(None))"
   ]
  },
  {
   "cell_type": "code",
   "execution_count": null,
   "metadata": {},
   "outputs": [],
   "source": [
    "# Making JSON files more readable!(Part 1)\n",
    "from json import dumps\n",
    "\n",
    "json_string = {\n",
    "    \"Name\" : \"Soroush\",\n",
    "    \"Age\" : 21,\n",
    "    \"Married\" : False,\n",
    "    \"Divorced\" : False,\n",
    "    \"Children\" : None,\n",
    "    \"Pets\" : False,\n",
    "    \"Cars\" : [\n",
    "        {\"Model\" : \"Skyline R34\", \"Top Speed\" : 330},\n",
    "        {\"Model\" : \"GTR R35 Nismo\", \"Top Speed\" : 375}\n",
    "    ]\n",
    "}\n",
    "\n",
    "print(dumps(json_string, indent=5))"
   ]
  },
  {
   "cell_type": "code",
   "execution_count": null,
   "metadata": {},
   "outputs": [],
   "source": [
    "# Making JSON files more readable!(Part 2)\n",
    "from json import dumps\n",
    "\n",
    "json_string = {\n",
    "    \"Name\" : \"Soroush\",\n",
    "    \"Age\" : 21,\n",
    "    \"Married\" : False,\n",
    "    \"Divorced\" : False,\n",
    "    \"Children\" : None,\n",
    "    \"Pets\" : False,\n",
    "    \"Cars\" : [\n",
    "        {\"Model\" : \"Skyline R34\", \"Top Speed\" : 330},\n",
    "        {\"Model\" : \"GTR R35 Nismo\", \"Top Speed\" : 375}\n",
    "    ]\n",
    "}\n",
    "\n",
    "print(dumps(json_string, indent=5, separators=(\"🗿\",\"=\")))"
   ]
  },
  {
   "cell_type": "code",
   "execution_count": null,
   "metadata": {},
   "outputs": [],
   "source": [
    "# Making JSON files more readable!(Part 3)\n",
    "from json import dumps\n",
    "\n",
    "json_string = {\n",
    "    \"Name\" : \"Soroush\",\n",
    "    \"Age\" : 21,\n",
    "    \"Married\" : False,\n",
    "    \"Divorced\" : False,\n",
    "    \"Children\" : None,\n",
    "    \"Pets\" : False,\n",
    "    \"Cars\" : [\n",
    "        {\"Model\" : \"Skyline R34\", \"Top Speed\" : 330},\n",
    "        {\"Model\" : \"GTR R35 Nismo\", \"Top Speed\" : 375}\n",
    "    ]\n",
    "}\n",
    "\n",
    "print(dumps(json_string, indent=5, sort_keys=True))"
   ]
  }
 ],
 "metadata": {
  "kernelspec": {
   "display_name": "Python 3",
   "language": "python",
   "name": "python3"
  },
  "language_info": {
   "codemirror_mode": {
    "name": "ipython",
    "version": 3
   },
   "file_extension": ".py",
   "mimetype": "text/x-python",
   "name": "python",
   "nbconvert_exporter": "python",
   "pygments_lexer": "ipython3",
   "version": "3.11.4"
  },
  "orig_nbformat": 4
 },
 "nbformat": 4,
 "nbformat_minor": 2
}
