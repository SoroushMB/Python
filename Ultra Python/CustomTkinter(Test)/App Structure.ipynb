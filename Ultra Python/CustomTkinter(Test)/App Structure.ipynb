{
 "cells": [
  {
   "cell_type": "code",
   "execution_count": null,
   "metadata": {},
   "outputs": [],
   "source": [
    "# from customtkinter import CTk,CTkButton\n",
    "\n",
    "# class App(CTk):\n",
    "#     def __init__(self):\n",
    "#         super().__init__()\n",
    "        \n",
    "#         self.title(string=\"AmirTaha\")\n",
    "#         self.minsize(width=400,height=300)\n",
    "        \n",
    "#         self.button = CTkButton(master=self, command=)\n",
    "        "
   ]
  },
  {
   "cell_type": "code",
   "execution_count": 3,
   "metadata": {},
   "outputs": [],
   "source": [
    "from customtkinter import CTk,CTkLabel\n",
    "from USA import California\n",
    "root = CTk()\n",
    "root.title(\"AmirTaha\")\n",
    "root.minsize(width=400,height=300)\n",
    "name = CTkLabel(master=root,\n",
    "                text=f\"Hello, Welcome to {California.capital()}!\",\n",
    "                width=120,\n",
    "                height=50,\n",
    "                font=(\"Gotham-Medium\",24),\n",
    "                corner_radius=10,\n",
    "                fg_color=\"#146542\"\n",
    "                )\n",
    "# 1080 * 1920 -> 540 * 960\n",
    "name.place(relx=0.5, rely=0.5, anchor=\"center\")\n",
    "root.mainloop()"
   ]
  }
 ],
 "metadata": {
  "kernelspec": {
   "display_name": "Python 3",
   "language": "python",
   "name": "python3"
  },
  "language_info": {
   "codemirror_mode": {
    "name": "ipython",
    "version": 3
   },
   "file_extension": ".py",
   "mimetype": "text/x-python",
   "name": "python",
   "nbconvert_exporter": "python",
   "pygments_lexer": "ipython3",
   "version": "3.11.4"
  },
  "orig_nbformat": 4
 },
 "nbformat": 4,
 "nbformat_minor": 2
}
