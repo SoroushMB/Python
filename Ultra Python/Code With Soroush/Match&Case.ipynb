{
 "cells": [
  {
   "attachments": {},
   "cell_type": "markdown",
   "metadata": {},
   "source": [
    "If - Elif - Else"
   ]
  },
  {
   "cell_type": "code",
   "execution_count": null,
   "metadata": {},
   "outputs": [],
   "source": [
    "# Resume = Curriculum Vitae\n",
    "user_input = input(\"Enter your command: \")\n",
    "if user_input == \"Start\":\n",
    "    print(\"The program has been started!\")\n",
    "elif user_input == \"Resume\" or user_input == \"Continue\":\n",
    "    print(\"The program will continue it's job!\")\n",
    "else:\n",
    "    print(\"Your command doesn't have any affect on this program!\")"
   ]
  },
  {
   "cell_type": "code",
   "execution_count": null,
   "metadata": {},
   "outputs": [],
   "source": [
    "user_input : str = input(\"Enter your command: \")\n",
    "match user_input:\n",
    "    case \"Start\":\n",
    "        print(\"The program has been started!\")\n",
    "    case \"Resume\" | \"Continue\":\n",
    "        print(\"The program will continue it's job!\")\n",
    "    case other:\n",
    "        print(\"Your command doesn't have any affect on this program!\")"
   ]
  },
  {
   "cell_type": "code",
   "execution_count": null,
   "metadata": {},
   "outputs": [],
   "source": []
  }
 ],
 "metadata": {
  "kernelspec": {
   "display_name": "Python 3",
   "language": "python",
   "name": "python3"
  },
  "language_info": {
   "codemirror_mode": {
    "name": "ipython",
    "version": 3
   },
   "file_extension": ".py",
   "mimetype": "text/x-python",
   "name": "python",
   "nbconvert_exporter": "python",
   "pygments_lexer": "ipython3",
   "version": "3.11.4"
  },
  "orig_nbformat": 4
 },
 "nbformat": 4,
 "nbformat_minor": 2
}
