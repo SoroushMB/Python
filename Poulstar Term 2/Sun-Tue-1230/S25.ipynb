{
 "cells": [
  {
   "cell_type": "code",
   "execution_count": 16,
   "metadata": {},
   "outputs": [
    {
     "name": "stdout",
     "output_type": "stream",
     "text": [
      "3\n",
      "Finished!\n"
     ]
    }
   ],
   "source": [
    "names = [\"Sepideh\",\"Mohammad Ali\",\"Taha\",\"Parmida\"]\n",
    "name = input(\">> \").title()\n",
    "try:\n",
    "    position = names.index(name)+1\n",
    "    print(position)\n",
    "except ValueError:\n",
    "    print(\"Item not found!\")\n",
    "else:\n",
    "    print(\"Finished!\")\n"
   ]
  },
  {
   "cell_type": "code",
   "execution_count": 5,
   "metadata": {},
   "outputs": [
    {
     "name": "stdout",
     "output_type": "stream",
     "text": [
      "Taha\n",
      "['Sepideh', 'Mohammad Ali', 'Parmida']\n"
     ]
    }
   ],
   "source": [
    "print(names.pop(2))\n",
    "print(names)"
   ]
  },
  {
   "cell_type": "code",
   "execution_count": 6,
   "metadata": {},
   "outputs": [
    {
     "name": "stdout",
     "output_type": "stream",
     "text": [
      "['Sepideh', 'Mohammad Ali', 'Yalda', 'Parmida']\n"
     ]
    }
   ],
   "source": [
    "names.insert(2,\"Yalda\")\n",
    "print(names)"
   ]
  },
  {
   "cell_type": "code",
   "execution_count": 13,
   "metadata": {},
   "outputs": [
    {
     "name": "stdout",
     "output_type": "stream",
     "text": [
      "Variable not found!\n"
     ]
    }
   ],
   "source": [
    "try:\n",
    "    print(names)\n",
    "except NameError:\n",
    "    print(\"Variable not found!\")\n",
    "except ValueError:\n",
    "    print(\"You have entered the wrong value!\")\n",
    "else:\n",
    "    print(\"Finished!\")"
   ]
  },
  {
   "cell_type": "code",
   "execution_count": null,
   "metadata": {},
   "outputs": [],
   "source": [
    "cars = {\n",
    "    \"Mercedes-Benz\" : (\"G Class\",\"C63 AMG\",\"SLS AMG\"),\n",
    "    \"Maserati\" : (\"Gran Cabrio\")\n",
    "}\n",
    "user_selected = input(\">> \")\n",
    "brands = tuple(cars.keys())\n",
    "print(cars.pop(user_selected))\n",
    "print(brands)\n"
   ]
  },
  {
   "cell_type": "code",
   "execution_count": 22,
   "metadata": {},
   "outputs": [
    {
     "name": "stdout",
     "output_type": "stream",
     "text": [
      "{'Mercedes-Benz': ('G Class', 'C63 AMG', 'SLS AMG'), 'Porsche': ['918 Spyder']}\n"
     ]
    }
   ],
   "source": [
    "cars.update({\"Porsche\":[\"918 Spyder\"]})\n",
    "print(cars)"
   ]
  },
  {
   "cell_type": "code",
   "execution_count": 23,
   "metadata": {},
   "outputs": [
    {
     "name": "stdout",
     "output_type": "stream",
     "text": [
      "['918 Spyder']\n"
     ]
    }
   ],
   "source": [
    "print(cars.get(\"Porsche\"))\n"
   ]
  }
 ],
 "metadata": {
  "kernelspec": {
   "display_name": "Python 3",
   "language": "python",
   "name": "python3"
  },
  "language_info": {
   "codemirror_mode": {
    "name": "ipython",
    "version": 3
   },
   "file_extension": ".py",
   "mimetype": "text/x-python",
   "name": "python",
   "nbconvert_exporter": "python",
   "pygments_lexer": "ipython3",
   "version": "3.11.5"
  },
  "orig_nbformat": 4
 },
 "nbformat": 4,
 "nbformat_minor": 2
}
