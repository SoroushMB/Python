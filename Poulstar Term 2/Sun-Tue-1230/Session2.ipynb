{
 "cells": [
  {
   "cell_type": "code",
   "execution_count": null,
   "metadata": {},
   "outputs": [],
   "source": [
    "# Minus Sign (-) , Under Score (_)\n",
    "# No number at first - No space in between - No minus sign\n",
    "# Mathmatical Operators = +,-,*,/,**,//\n",
    "# Logical Operators , Conditional Statements\n",
    "# print(type(temprature_celesius))\n",
    "temprature_celesius = float(input(\"How much is the emp outside : \"))\n",
    "print(f\"Temp : {temprature_celesius:.2f}\")# F-String"
   ]
  },
  {
   "cell_type": "code",
   "execution_count": null,
   "metadata": {},
   "outputs": [],
   "source": [
    "temprature_celesius = float(input(\"How much is the emp outside : \"))\n",
    "if temprature_celesius <= 20:\n",
    "    print(\"The weather is cold outside!\")\n",
    "elif 20 < temprature_celesius < 30:\n",
    "    print(\"The weather is good!\")\n",
    "else:\n",
    "    print(\"Stay at your home!\")"
   ]
  },
  {
   "cell_type": "code",
   "execution_count": null,
   "metadata": {},
   "outputs": [],
   "source": [
    "password = int(input(\"Enter your password: \"))\n",
    "if password == 1390:\n",
    "    print(\"It's ok!\")\n",
    "else:\n",
    "    print(\"It's not ok\")"
   ]
  }
 ],
 "metadata": {
  "kernelspec": {
   "display_name": "Python 3",
   "language": "python",
   "name": "python3"
  },
  "language_info": {
   "codemirror_mode": {
    "name": "ipython",
    "version": 3
   },
   "file_extension": ".py",
   "mimetype": "text/x-python",
   "name": "python",
   "nbconvert_exporter": "python",
   "pygments_lexer": "ipython3",
   "version": "3.11.4"
  },
  "orig_nbformat": 4
 },
 "nbformat": 4,
 "nbformat_minor": 2
}
