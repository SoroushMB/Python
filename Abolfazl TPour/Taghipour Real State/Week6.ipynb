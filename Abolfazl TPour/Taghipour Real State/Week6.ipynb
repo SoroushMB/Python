{
 "cells": [
  {
   "cell_type": "code",
   "execution_count": 4,
   "metadata": {},
   "outputs": [
    {
     "name": "stdout",
     "output_type": "stream",
     "text": [
      "Soroush\n"
     ]
    }
   ],
   "source": [
    "# Name\n",
    "# Write(OverWrite(w),Append(a)) , Read()\n",
    "username = input(\"Enter your name: \")\n",
    "result = open(\"Username.txt\",\"a\")\n",
    "result.write(f\"Username : {username}\\n\")\n",
    "result.close()\n",
    "print(username)"
   ]
  },
  {
   "cell_type": "code",
   "execution_count": 6,
   "metadata": {},
   "outputs": [
    {
     "name": "stdout",
     "output_type": "stream",
     "text": [
      "['Username : Abolfazl\\n', 'Username : Soroush']\n"
     ]
    }
   ],
   "source": [
    "final_result = open(\"Username.txt\",\"r\")\n",
    "lines = final_result.readlines()\n",
    "final_result.close()\n",
    "print(lines)\n"
   ]
  }
 ],
 "metadata": {
  "kernelspec": {
   "display_name": "Python 3",
   "language": "python",
   "name": "python3"
  },
  "language_info": {
   "codemirror_mode": {
    "name": "ipython",
    "version": 3
   },
   "file_extension": ".py",
   "mimetype": "text/x-python",
   "name": "python",
   "nbconvert_exporter": "python",
   "pygments_lexer": "ipython3",
   "version": "3.11.4"
  },
  "orig_nbformat": 4
 },
 "nbformat": 4,
 "nbformat_minor": 2
}
