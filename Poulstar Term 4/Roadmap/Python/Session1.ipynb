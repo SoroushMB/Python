{
 "cells": [
  {
   "cell_type": "markdown",
   "metadata": {},
   "source": [
    "Sets -> They can store multiple items in a single variable!\n",
    "Specs => 1 :\n",
    "- Unordered -> You can't have index for each item!"
   ]
  },
  {
   "cell_type": "code",
   "execution_count": 1,
   "metadata": {},
   "outputs": [
    {
     "name": "stdout",
     "output_type": "stream",
     "text": [
      "{'Nissan', 'Chevorlet', 'BMW', 'McLaren', 'Mercedes-Benz'}\n"
     ]
    }
   ],
   "source": [
    "Names = {\"Nissan\",\"Mercedes-Benz\",\"McLaren\",\"BMW\",\"Chevorlet\"}\n",
    "print(Names)"
   ]
  },
  {
   "cell_type": "code",
   "execution_count": 2,
   "metadata": {},
   "outputs": [
    {
     "name": "stdout",
     "output_type": "stream",
     "text": [
      "{'Banana', 'PineApple', 'Apple', 'Pomogrante'}\n"
     ]
    }
   ],
   "source": [
    "# Duplicates will get ignored\n",
    "Fruits = {\"Apple\",\"Banana\",\"Pomogrante\",\"PineApple\",\"Banana\"}\n",
    "print(Fruits)"
   ]
  },
  {
   "cell_type": "code",
   "execution_count": 9,
   "metadata": {},
   "outputs": [
    {
     "name": "stdout",
     "output_type": "stream",
     "text": [
      "{False, True}\n"
     ]
    }
   ],
   "source": [
    "# The Booleans \"True\",\"False\" are considered the same as 1,0 and will be duplicates if they get used\n",
    "# with together!\n",
    "NightOrDays = {False,True,1}\n",
    "print(NightOrDays)"
   ]
  },
  {
   "cell_type": "code",
   "execution_count": 8,
   "metadata": {},
   "outputs": [
    {
     "name": "stdout",
     "output_type": "stream",
     "text": [
      "4\n"
     ]
    }
   ],
   "source": [
    "# Despite of being unordered, you can still get their length by 'len' function\n",
    "FoodCompanies = {\"McDonalds\",\"Burger King\",\"KFC\",\"Subway\"}\n",
    "LengthOfSet = len(FoodCompanies)\n",
    "print(LengthOfSet)"
   ]
  },
  {
   "cell_type": "code",
   "execution_count": 10,
   "metadata": {},
   "outputs": [
    {
     "name": "stdout",
     "output_type": "stream",
     "text": [
      "{'Samsung', 'ASUS', 'Xiaomi', 'Apple'}\n"
     ]
    }
   ],
   "source": [
    "# Set Constructor -> set((\"\")) 'Lists & Tuples'\n",
    "MainCompanies = (\"Apple\",\"Samsung\",\"Xiaomi\",\"ASUS\")\n",
    "SmartPhoneCompanies = set(MainCompanies)\n",
    "print(SmartPhoneCompanies)"
   ]
  },
  {
   "cell_type": "code",
   "execution_count": 12,
   "metadata": {},
   "outputs": [
    {
     "name": "stdout",
     "output_type": "stream",
     "text": [
      "{'Xiaomi', 'ASUS', 'Samsung', 'Apple'}\n"
     ]
    }
   ],
   "source": [
    "# Looping through the set\n",
    "SmartPhoneCompanies = set({\"Apple\":1,\"Samsung\":2,\"Xiaomi\":3,\"ASUS\":4})\n",
    "print(SmartPhoneCompanies)"
   ]
  },
  {
   "cell_type": "code",
   "execution_count": null,
   "metadata": {},
   "outputs": [],
   "source": [
    "# Methods Of Set\n",
    "# The jay, pig, fox, zebra and my wolves quack"
   ]
  },
  {
   "cell_type": "code",
   "execution_count": 8,
   "metadata": {},
   "outputs": [
    {
     "name": "stdout",
     "output_type": "stream",
     "text": [
      "9039851230\n"
     ]
    }
   ],
   "source": [
    "Number = 9039851230\n",
    "print(Number)"
   ]
  }
 ],
 "metadata": {
  "kernelspec": {
   "display_name": "Python 3",
   "language": "python",
   "name": "python3"
  },
  "language_info": {
   "codemirror_mode": {
    "name": "ipython",
    "version": 3
   },
   "file_extension": ".py",
   "mimetype": "text/x-python",
   "name": "python",
   "nbconvert_exporter": "python",
   "pygments_lexer": "ipython3",
   "version": "3.12.0"
  }
 },
 "nbformat": 4,
 "nbformat_minor": 2
}
