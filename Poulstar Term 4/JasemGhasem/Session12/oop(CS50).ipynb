{
 "cells": [
  {
   "cell_type": "code",
   "execution_count": 1,
   "metadata": {},
   "outputs": [
    {
     "name": "stdout",
     "output_type": "stream",
     "text": [
      "Soroush from Tehran\n"
     ]
    }
   ],
   "source": [
    "name = input(\">> \")\n",
    "city = input(\">> \")\n",
    "print(f\"{name} from {city}\")"
   ]
  },
  {
   "cell_type": "code",
   "execution_count": null,
   "metadata": {},
   "outputs": [],
   "source": [
    "def main():\n",
    "    name = get_name()\n",
    "    city = get_city()\n",
    "    print(f\"{name} from {city}\")\n",
    "    \n",
    "def get_name():    \n",
    "    return input(\">> \")\n",
    "def get_city():\n",
    "    return input(\">> \")\n",
    "\n",
    "main()"
   ]
  },
  {
   "cell_type": "code",
   "execution_count": 3,
   "metadata": {},
   "outputs": [
    {
     "name": "stdout",
     "output_type": "stream",
     "text": [
      "Soroush from Tehran\n"
     ]
    }
   ],
   "source": [
    "def main():\n",
    "    info = get_student()\n",
    "    print(f\"{info[0]} from {info[1]}\")\n",
    "    \n",
    "def get_student():\n",
    "    name = input(\"Name: \")\n",
    "    house = input(\"House: \")\n",
    "    return name, house\n",
    "\n",
    "main()"
   ]
  },
  {
   "cell_type": "code",
   "execution_count": null,
   "metadata": {},
   "outputs": [],
   "source": [
    "def main():\n",
    "    info = get_student()\n",
    "    if info[0] == \"Shamin\":\n",
    "        print(f\"{info[0]} from {info[1]}\")\n",
    "    else:\n",
    "        print(\"None\")\n",
    "        \n",
    "def get_student():\n",
    "    name = input(\"Name: \")\n",
    "    house = input(\"House: \")\n",
    "    return name, house\n",
    "\n",
    "main()"
   ]
  },
  {
   "cell_type": "code",
   "execution_count": null,
   "metadata": {},
   "outputs": [],
   "source": [
    "def main():\n",
    "    info = get_student()\n",
    "    print(f\"{info[]} from {info[]}\")\n",
    "    \n",
    "def get_student():\n",
    "    name = input(\"Name: \")\n",
    "    house = input(\"House: \")\n",
    "    return {\"name\":name, \"house\":house}\n",
    "\n",
    "main()"
   ]
  }
 ],
 "metadata": {
  "kernelspec": {
   "display_name": "Python 3",
   "language": "python",
   "name": "python3"
  },
  "language_info": {
   "codemirror_mode": {
    "name": "ipython",
    "version": 3
   },
   "file_extension": ".py",
   "mimetype": "text/x-python",
   "name": "python",
   "nbconvert_exporter": "python",
   "pygments_lexer": "ipython3",
   "version": "3.12.0"
  }
 },
 "nbformat": 4,
 "nbformat_minor": 2
}
