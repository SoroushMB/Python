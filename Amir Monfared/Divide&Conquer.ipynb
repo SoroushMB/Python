{
 "cells": [
  {
   "cell_type": "code",
   "execution_count": null,
   "metadata": {},
   "outputs": [],
   "source": [
    "# Binary Search\n",
    "# Iterative Binary Search Function method Python Implementation  \n",
    "# It returns index of n in given list1 if present,   \n",
    "# else returns -1   \n",
    "def binary_search(list1, n):  \n",
    "    low = 0  \n",
    "    high = len(list1) - 1  \n",
    "    mid = 0  \n",
    "\n",
    "    while low <= high:  \n",
    "        # for get integer result   \n",
    "        mid = (high + low) // 2  \n",
    "        # Check if n is present at mid   \n",
    "        if list1[mid] < n:  \n",
    "            low = mid + 1  \n",
    "        # If n is greater, compare to the right of mid   \n",
    "        elif list1[mid] > n:  \n",
    "            high = mid - 1  \n",
    "  \n",
    "        # If n is smaller, compared to the left of mid  \n",
    "        else:  \n",
    "            return mid  \n",
    "  \n",
    "            # element was not present in the list, return -1  \n",
    "    return -1  \n",
    "  \n",
    "  \n",
    "# Initial list1  \n",
    "list1 = [12, 24, 32, 39, 45, 50, 54]  \n",
    "n = 45  \n",
    "\n",
    "# Function call   \n",
    "result = binary_search(list1, n)  \n",
    "\n",
    "if result != -1:  \n",
    "    print(\"Element is present at index\", result)  \n",
    "else:  \n",
    "    print(\"Element is not present in list1\") "
   ]
  },
  {
   "cell_type": "code",
   "execution_count": null,
   "metadata": {},
   "outputs": [],
   "source": [
    "first_names = [\"Amir\",\"Soroush\",\"Sina\"] # Array\n",
    "last_names = [\"Monfared\",\"Masoom Babaei\",\"Pirani\"] # Array = List\n",
    "for name in first_names:\n",
    "    print(name)"
   ]
  },
  {
   "cell_type": "code",
   "execution_count": 4,
   "metadata": {},
   "outputs": [
    {
     "name": "stdout",
     "output_type": "stream",
     "text": [
      "6\n"
     ]
    }
   ],
   "source": [
    "# Count\n",
    "numbers = [21,22,38,70,53,60]\n",
    "counter = len(numbers)\n",
    "print(counter)"
   ]
  },
  {
   "cell_type": "code",
   "execution_count": null,
   "metadata": {},
   "outputs": [],
   "source": [
    "numbers = [21,22,38,70,53,65] \n",
    "# 0-5 --> 0 , 1 , 2 , 3 , 4 , 5 --> len = 6 ( Computer Way )\n",
    "# 1-6 --> 1 , 2 , 3 , 4 , 5 , 6 --> len = 6 ( Human Way )\n",
    "if numbers[5] == 60:\n",
    "    print(\"I found it!\")\n",
    "else:\n",
    "    print(\"I didn't found it!\")"
   ]
  },
  {
   "cell_type": "code",
   "execution_count": 12,
   "metadata": {},
   "outputs": [
    {
     "name": "stdout",
     "output_type": "stream",
     "text": [
      "1.2\n"
     ]
    }
   ],
   "source": [
    "# (1+10) / 2 = 5.5 --> Floor : 5 , Ceiling : 6"
   ]
  },
  {
   "cell_type": "code",
   "execution_count": 13,
   "metadata": {},
   "outputs": [
    {
     "data": {
      "text/plain": [
       "110"
      ]
     },
     "execution_count": 13,
     "metadata": {},
     "output_type": "execute_result"
    }
   ],
   "source": [
    "# Variable : name = value\n",
    "# Function : parameter(name) = argument(value)\n",
    "def sum(first:int,last:int){\n",
    "    return first+last\n",
    "}\n",
    "sum(first=60,last=50)"
   ]
  }
 ],
 "metadata": {
  "kernelspec": {
   "display_name": "Python 3",
   "language": "python",
   "name": "python3"
  },
  "language_info": {
   "codemirror_mode": {
    "name": "ipython",
    "version": 3
   },
   "file_extension": ".py",
   "mimetype": "text/x-python",
   "name": "python",
   "nbconvert_exporter": "python",
   "pygments_lexer": "ipython3",
   "version": "3.11.4"
  },
  "orig_nbformat": 4
 },
 "nbformat": 4,
 "nbformat_minor": 2
}
